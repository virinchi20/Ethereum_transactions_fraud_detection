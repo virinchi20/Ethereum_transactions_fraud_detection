{
 "cells": [
  {
   "cell_type": "code",
   "execution_count": 2,
   "metadata": {},
   "outputs": [],
   "source": [
    "import numpy as np\n",
    "import pandas as pd\n",
    "from matplotlib import pyplot as plt\n",
    "import seaborn as sns\n",
    "from sklearn.model_selection import train_test_split\n",
    "from category_encoders import TargetEncoder\n",
    "from sklearn.ensemble import IsolationForest"
   ]
  },
  {
   "cell_type": "code",
   "execution_count": 3,
   "metadata": {},
   "outputs": [],
   "source": [
    "df = pd.read_csv('data_for_unsupervised_learning.csv')"
   ]
  },
  {
   "cell_type": "code",
   "execution_count": 4,
   "metadata": {},
   "outputs": [
    {
     "name": "stdout",
     "output_type": "stream",
     "text": [
      "<class 'pandas.core.frame.DataFrame'>\n",
      "RangeIndex: 8981 entries, 0 to 8980\n",
      "Data columns (total 41 columns):\n",
      " #   Column                                                Non-Null Count  Dtype  \n",
      "---  ------                                                --------------  -----  \n",
      " 0   FLAG                                                  8981 non-null   int64  \n",
      " 1   Avg-min-between-sent-tnx                              8981 non-null   float64\n",
      " 2   Avg-min-between-received-tnx                          8981 non-null   float64\n",
      " 3   Time-Diff-between-first-and-last (Mins)               8981 non-null   float64\n",
      " 4   Sent-tnx                                              8981 non-null   int64  \n",
      " 5   Received-Tnx                                          8981 non-null   int64  \n",
      " 6   Number-of-Created-Contracts                           8981 non-null   int64  \n",
      " 7   Unique-Received-From-Addresses                        8981 non-null   int64  \n",
      " 8   Unique-Sent-To-Addresses                              8981 non-null   int64  \n",
      " 9   min-value-received                                    8981 non-null   float64\n",
      " 10  max-value-received                                    8981 non-null   float64\n",
      " 11  avg-val-received                                      8981 non-null   float64\n",
      " 12  min-val-sent                                          8981 non-null   float64\n",
      " 13  max-val-sent                                          8981 non-null   float64\n",
      " 14  avg-val-sent                                          8981 non-null   float64\n",
      " 15  min-value-sent-to-contract                            8981 non-null   float64\n",
      " 16  max-val-sent-to-contract                              8981 non-null   float64\n",
      " 17  avg-value-sent-to-contract                            8981 non-null   float64\n",
      " 18  total-transactions (including-tnx-to-create-contract  8981 non-null   int64  \n",
      " 19  total-Ether-sent                                      8981 non-null   float64\n",
      " 20  total-ether-received                                  8981 non-null   float64\n",
      " 21  total-ether-sent-contracts                            8981 non-null   float64\n",
      " 22  total-ether-balance                                   8981 non-null   float64\n",
      " 23  Total-ERC20-tnxs                                      8981 non-null   float64\n",
      " 24  ERC20-total-Ether-received                            8981 non-null   float64\n",
      " 25  ERC20-total-ether-sent                                8981 non-null   float64\n",
      " 26  ERC20-total-Ether-sent-contract                       8981 non-null   float64\n",
      " 27  ERC20-uniq-sent-addr                                  8981 non-null   float64\n",
      " 28  ERC20-uniq-rec-addr                                   8981 non-null   float64\n",
      " 29  ERC20-uniq-sent-addr.1                                8981 non-null   float64\n",
      " 30  ERC20-uniq-rec-contract-addr                          8981 non-null   float64\n",
      " 31  ERC20-min-val-rec                                     8981 non-null   float64\n",
      " 32  ERC20-max-val-rec                                     8981 non-null   float64\n",
      " 33  ERC20-avg-val-rec                                     8981 non-null   float64\n",
      " 34  ERC20-min-val-sent                                    8981 non-null   float64\n",
      " 35  ERC20-max-val-sent                                    8981 non-null   float64\n",
      " 36  ERC20-avg-val-sent                                    8981 non-null   float64\n",
      " 37  ERC20-uniq-sent-token-name                            8981 non-null   float64\n",
      " 38  ERC20-uniq-rec-token-name                             8981 non-null   float64\n",
      " 39  ERC20-most-sent-token-type                            8981 non-null   object \n",
      " 40  ERC20_most_rec_token_type                             8981 non-null   object \n",
      "dtypes: float64(32), int64(7), object(2)\n",
      "memory usage: 2.8+ MB\n"
     ]
    }
   ],
   "source": [
    "df.info()"
   ]
  },
  {
   "cell_type": "code",
   "execution_count": 5,
   "metadata": {},
   "outputs": [],
   "source": [
    "X = df.drop('FLAG', axis=1)\n",
    "y = df['FLAG']\n",
    "\n",
    "X_train, X_test, y_train, y_test = train_test_split(X, y, test_size=0.2, random_state = 123)"
   ]
  },
  {
   "cell_type": "markdown",
   "metadata": {},
   "source": [
    "Encoding the categorical variables with TargetEncoder"
   ]
  },
  {
   "cell_type": "code",
   "execution_count": 6,
   "metadata": {},
   "outputs": [
    {
     "data": {
      "text/plain": [
       "Index(['ERC20-most-sent-token-type', 'ERC20_most_rec_token_type'], dtype='object')"
      ]
     },
     "execution_count": 6,
     "metadata": {},
     "output_type": "execute_result"
    }
   ],
   "source": [
    "categories = df.select_dtypes(include='object').columns\n",
    "categories"
   ]
  },
  {
   "cell_type": "code",
   "execution_count": 7,
   "metadata": {},
   "outputs": [],
   "source": [
    "encoder = TargetEncoder(cols=categories)\n",
    "X_train_encoded = encoder.fit_transform(X_train, y_train)\n",
    "X_test_encoded = encoder.transform(X_test)"
   ]
  },
  {
   "cell_type": "code",
   "execution_count": 10,
   "metadata": {},
   "outputs": [],
   "source": [
    "train = pd.concat([X_train_encoded, y_train], axis=1)\n",
    "test = pd.concat([X_test_encoded, y_test], axis=1)"
   ]
  },
  {
   "cell_type": "code",
   "execution_count": 26,
   "metadata": {},
   "outputs": [
    {
     "name": "stdout",
     "output_type": "stream",
     "text": [
      "Number of anomalies in the training set:  219\n",
      "Number of anomalies in testing set:  51\n"
     ]
    }
   ],
   "source": [
    "isolation_forest = IsolationForest(contamination='auto', random_state=123)\n",
    "isolation_forest.fit(train)\n",
    "\n",
    "training_anomaly_prediction = isolation_forest.predict(train)\n",
    "test_anomaly_prediction = isolation_forest.predict(test)\n",
    "\n",
    "is_train = np.sum(training_anomaly_prediction == -1)\n",
    "is_test = np.sum(test_anomaly_prediction == -1)\n",
    "\n",
    "print(\"Number of anomalies in the training set: \", is_train)\n",
    "#print(\"Actual anomalies in training: \", np.sum(train['FLAG'] == 1))\n",
    "print(\"Number of anomalies in testing set: \", is_test)"
   ]
  }
 ],
 "metadata": {
  "kernelspec": {
   "display_name": "ai",
   "language": "python",
   "name": "python3"
  },
  "language_info": {
   "codemirror_mode": {
    "name": "ipython",
    "version": 3
   },
   "file_extension": ".py",
   "mimetype": "text/x-python",
   "name": "python",
   "nbconvert_exporter": "python",
   "pygments_lexer": "ipython3",
   "version": "3.7.12"
  }
 },
 "nbformat": 4,
 "nbformat_minor": 2
}
