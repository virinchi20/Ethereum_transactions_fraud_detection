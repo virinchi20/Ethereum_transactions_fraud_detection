{
 "cells": [
  {
   "cell_type": "code",
   "execution_count": 26,
   "metadata": {},
   "outputs": [],
   "source": [
    "import tensorflow as tf\n",
    "import numpy as np\n",
    "import pandas as pd\n",
    "from matplotlib import pyplot as plt\n",
    "import seaborn as sns\n",
    "from category_encoders import TargetEncoder\n",
    "from sklearn.model_selection import train_test_split\n",
    "from sklearn.preprocessing import StandardScaler"
   ]
  },
  {
   "cell_type": "code",
   "execution_count": 3,
   "metadata": {},
   "outputs": [],
   "source": [
    "df = pd.read_csv(\"data_for_supervised_learning.csv\")"
   ]
  },
  {
   "cell_type": "code",
   "execution_count": 4,
   "metadata": {},
   "outputs": [
    {
     "name": "stdout",
     "output_type": "stream",
     "text": [
      "<class 'pandas.core.frame.DataFrame'>\n",
      "RangeIndex: 9841 entries, 0 to 9840\n",
      "Data columns (total 41 columns):\n",
      " #   Column                                                Non-Null Count  Dtype  \n",
      "---  ------                                                --------------  -----  \n",
      " 0   FLAG                                                  9841 non-null   int64  \n",
      " 1   Avg-min-between-sent-tnx                              9841 non-null   float64\n",
      " 2   Avg-min-between-received-tnx                          9841 non-null   float64\n",
      " 3   Time-Diff-between-first-and-last (Mins)               9841 non-null   float64\n",
      " 4   Sent-tnx                                              9841 non-null   int64  \n",
      " 5   Received-Tnx                                          9841 non-null   int64  \n",
      " 6   Number-of-Created-Contracts                           9841 non-null   int64  \n",
      " 7   Unique-Received-From-Addresses                        9841 non-null   int64  \n",
      " 8   Unique-Sent-To-Addresses                              9841 non-null   int64  \n",
      " 9   min-value-received                                    9841 non-null   float64\n",
      " 10  max-value-received                                    9841 non-null   float64\n",
      " 11  avg-val-received                                      9841 non-null   float64\n",
      " 12  min-val-sent                                          9841 non-null   float64\n",
      " 13  max-val-sent                                          9841 non-null   float64\n",
      " 14  avg-val-sent                                          9841 non-null   float64\n",
      " 15  min-value-sent-to-contract                            9841 non-null   float64\n",
      " 16  max-val-sent-to-contract                              9841 non-null   float64\n",
      " 17  avg-value-sent-to-contract                            9841 non-null   float64\n",
      " 18  total-transactions (including-tnx-to-create-contract  9841 non-null   int64  \n",
      " 19  total-Ether-sent                                      9841 non-null   float64\n",
      " 20  total-ether-received                                  9841 non-null   float64\n",
      " 21  total-ether-sent-contracts                            9841 non-null   float64\n",
      " 22  total-ether-balance                                   9841 non-null   float64\n",
      " 23  Total-ERC20-tnxs                                      9012 non-null   float64\n",
      " 24  ERC20-total-Ether-received                            9012 non-null   float64\n",
      " 25  ERC20-total-ether-sent                                9012 non-null   float64\n",
      " 26  ERC20-total-Ether-sent-contract                       9012 non-null   float64\n",
      " 27  ERC20-uniq-sent-addr                                  9012 non-null   float64\n",
      " 28  ERC20-uniq-rec-addr                                   9012 non-null   float64\n",
      " 29  ERC20-uniq-sent-addr.1                                9012 non-null   float64\n",
      " 30  ERC20-uniq-rec-contract-addr                          9012 non-null   float64\n",
      " 31  ERC20-min-val-rec                                     9012 non-null   float64\n",
      " 32  ERC20-max-val-rec                                     9012 non-null   float64\n",
      " 33  ERC20-avg-val-rec                                     9012 non-null   float64\n",
      " 34  ERC20-min-val-sent                                    9012 non-null   float64\n",
      " 35  ERC20-max-val-sent                                    9012 non-null   float64\n",
      " 36  ERC20-avg-val-sent                                    9012 non-null   float64\n",
      " 37  ERC20-uniq-sent-token-name                            9012 non-null   float64\n",
      " 38  ERC20-uniq-rec-token-name                             9012 non-null   float64\n",
      " 39  ERC20-most-sent-token-type                            9000 non-null   object \n",
      " 40  ERC20_most_rec_token_type                             8990 non-null   object \n",
      "dtypes: float64(32), int64(7), object(2)\n",
      "memory usage: 3.1+ MB\n"
     ]
    }
   ],
   "source": [
    "df.info()"
   ]
  },
  {
   "cell_type": "code",
   "execution_count": 5,
   "metadata": {},
   "outputs": [
    {
     "data": {
      "text/plain": [
       "Index(['ERC20-most-sent-token-type', 'ERC20_most_rec_token_type'], dtype='object')"
      ]
     },
     "execution_count": 5,
     "metadata": {},
     "output_type": "execute_result"
    }
   ],
   "source": [
    "categories = df.select_dtypes(include='object').columns\n",
    "categories"
   ]
  },
  {
   "cell_type": "code",
   "execution_count": 9,
   "metadata": {},
   "outputs": [],
   "source": [
    "X = df.drop('FLAG', axis=1)\n",
    "y = df['FLAG']\n",
    "\n",
    "X_train, X_test, y_train, y_test = train_test_split(X, y, test_size=0.2, random_state = 123)"
   ]
  },
  {
   "cell_type": "code",
   "execution_count": 10,
   "metadata": {},
   "outputs": [],
   "source": [
    "encoder = TargetEncoder(cols=categories)\n",
    "X_train_encoded = encoder.fit_transform(X_train, y_train)\n",
    "X_test_encoded = encoder.transform(X_test)"
   ]
  },
  {
   "cell_type": "code",
   "execution_count": 20,
   "metadata": {},
   "outputs": [
    {
     "name": "stdout",
     "output_type": "stream",
     "text": [
      "<class 'pandas.core.frame.DataFrame'>\n",
      "Int64Index: 7872 entries, 4886 to 3582\n",
      "Data columns (total 40 columns):\n",
      " #   Column                                                Non-Null Count  Dtype  \n",
      "---  ------                                                --------------  -----  \n",
      " 0   Avg-min-between-sent-tnx                              7872 non-null   float64\n",
      " 1   Avg-min-between-received-tnx                          7872 non-null   float64\n",
      " 2   Time-Diff-between-first-and-last (Mins)               7872 non-null   float64\n",
      " 3   Sent-tnx                                              7872 non-null   int64  \n",
      " 4   Received-Tnx                                          7872 non-null   int64  \n",
      " 5   Number-of-Created-Contracts                           7872 non-null   int64  \n",
      " 6   Unique-Received-From-Addresses                        7872 non-null   int64  \n",
      " 7   Unique-Sent-To-Addresses                              7872 non-null   int64  \n",
      " 8   min-value-received                                    7872 non-null   float64\n",
      " 9   max-value-received                                    7872 non-null   float64\n",
      " 10  avg-val-received                                      7872 non-null   float64\n",
      " 11  min-val-sent                                          7872 non-null   float64\n",
      " 12  max-val-sent                                          7872 non-null   float64\n",
      " 13  avg-val-sent                                          7872 non-null   float64\n",
      " 14  min-value-sent-to-contract                            7872 non-null   float64\n",
      " 15  max-val-sent-to-contract                              7872 non-null   float64\n",
      " 16  avg-value-sent-to-contract                            7872 non-null   float64\n",
      " 17  total-transactions (including-tnx-to-create-contract  7872 non-null   int64  \n",
      " 18  total-Ether-sent                                      7872 non-null   float64\n",
      " 19  total-ether-received                                  7872 non-null   float64\n",
      " 20  total-ether-sent-contracts                            7872 non-null   float64\n",
      " 21  total-ether-balance                                   7872 non-null   float64\n",
      " 22  Total-ERC20-tnxs                                      7219 non-null   float64\n",
      " 23  ERC20-total-Ether-received                            7219 non-null   float64\n",
      " 24  ERC20-total-ether-sent                                7219 non-null   float64\n",
      " 25  ERC20-total-Ether-sent-contract                       7219 non-null   float64\n",
      " 26  ERC20-uniq-sent-addr                                  7219 non-null   float64\n",
      " 27  ERC20-uniq-rec-addr                                   7219 non-null   float64\n",
      " 28  ERC20-uniq-sent-addr.1                                7219 non-null   float64\n",
      " 29  ERC20-uniq-rec-contract-addr                          7219 non-null   float64\n",
      " 30  ERC20-min-val-rec                                     7219 non-null   float64\n",
      " 31  ERC20-max-val-rec                                     7219 non-null   float64\n",
      " 32  ERC20-avg-val-rec                                     7219 non-null   float64\n",
      " 33  ERC20-min-val-sent                                    7219 non-null   float64\n",
      " 34  ERC20-max-val-sent                                    7219 non-null   float64\n",
      " 35  ERC20-avg-val-sent                                    7219 non-null   float64\n",
      " 36  ERC20-uniq-sent-token-name                            7219 non-null   float64\n",
      " 37  ERC20-uniq-rec-token-name                             7219 non-null   float64\n",
      " 38  ERC20-most-sent-token-type                            7872 non-null   float64\n",
      " 39  ERC20_most_rec_token_type                             7872 non-null   float64\n",
      "dtypes: float64(34), int64(6)\n",
      "memory usage: 2.5 MB\n"
     ]
    }
   ],
   "source": [
    "X_train_encoded.info()"
   ]
  },
  {
   "cell_type": "code",
   "execution_count": 13,
   "metadata": {},
   "outputs": [],
   "source": [
    "train_tf = tf.data.Dataset.from_tensor_slices((X_train_encoded.values, y_train.values))"
   ]
  },
  {
   "cell_type": "code",
   "execution_count": null,
   "metadata": {},
   "outputs": [],
   "source": [
    "# Extra step to see if we can fix the loss issue\n",
    "scaler = StandardScaler()\n",
    "train = scaler.fit_transform(X_train_encoded)\n",
    "test = scaler.transform(X_test_encoded)"
   ]
  },
  {
   "cell_type": "code",
   "execution_count": 31,
   "metadata": {},
   "outputs": [
    {
     "name": "stdout",
     "output_type": "stream",
     "text": [
      "Epoch 1/5\n",
      "246/246 [==============================] - 0s 762us/step - loss: nan - accuracy: 0.7755\n",
      "Epoch 2/5\n",
      "246/246 [==============================] - 0s 755us/step - loss: nan - accuracy: 0.7768\n",
      "Epoch 3/5\n",
      "246/246 [==============================] - 0s 740us/step - loss: nan - accuracy: 0.7768\n",
      "Epoch 4/5\n",
      "246/246 [==============================] - 0s 732us/step - loss: nan - accuracy: 0.7768\n",
      "Epoch 5/5\n",
      "246/246 [==============================] - 0s 740us/step - loss: nan - accuracy: 0.7768\n"
     ]
    },
    {
     "data": {
      "text/plain": [
       "<keras.callbacks.History at 0x1fca2190708>"
      ]
     },
     "execution_count": 31,
     "metadata": {},
     "output_type": "execute_result"
    }
   ],
   "source": [
    "tf.random.set_seed(42)\n",
    "\n",
    "model = tf.keras.Sequential()\n",
    "model.add(tf.keras.layers.Dense(64, activation='relu', input_shape=(X_train_encoded.shape[1],)))\n",
    "model.add(tf.keras.layers.Dropout(0.3))\n",
    "model.add(tf.keras.layers.Dense(32, activation=\"relu\"))\n",
    "model.add(tf.keras.layers.Dropout(0.3))\n",
    "model.add(tf.keras.layers.Dense(1, activation=\"sigmoid\"))\n",
    "\n",
    "\n",
    "model.compile(loss=tf.keras.losses.BinaryCrossentropy(),\n",
    "              optimizer=tf.keras.optimizers.Adam(learning_rate=0.001),\n",
    "              metrics=[\"accuracy\"])\n",
    "\n",
    "model.fit(X_train_encoded, y_train, epochs=5)"
   ]
  }
 ],
 "metadata": {
  "kernelspec": {
   "display_name": "ai",
   "language": "python",
   "name": "python3"
  },
  "language_info": {
   "codemirror_mode": {
    "name": "ipython",
    "version": 3
   },
   "file_extension": ".py",
   "mimetype": "text/x-python",
   "name": "python",
   "nbconvert_exporter": "python",
   "pygments_lexer": "ipython3",
   "version": "3.7.12"
  }
 },
 "nbformat": 4,
 "nbformat_minor": 2
}
